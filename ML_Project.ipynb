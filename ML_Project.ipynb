{
 "cells": [
  {
   "cell_type": "markdown",
   "id": "44264601-13a2-4d36-b5f6-6c2e1276ea19",
   "metadata": {},
   "source": [
    "# Loading datasets "
   ]
  },
  {
   "cell_type": "code",
   "execution_count": 1,
   "id": "6394837d-11c9-4a98-b5f1-850652e3451c",
   "metadata": {},
   "outputs": [
    {
     "name": "stdout",
     "output_type": "stream",
     "text": [
      "[info] : Loading datasets..\n",
      "[info] : Datasets loading complete.\n"
     ]
    }
   ],
   "source": [
    "import pandas as pd\n",
    "from sklearn.decomposition import PCA\n",
    "from sklearn.ensemble import RandomForestClassifier\n",
    "from sklearn.model_selection import GridSearchCV, cross_val_score\n",
    "import numpy as np\n",
    "from sklearn.svm import SVC\n",
    "\n",
    "# Load datasets\n",
    "print(\"[info] : Loading datasets..\")\n",
    "train_data = pd.read_csv(\"train.csv\")\n",
    "test_data=pd.read_csv(\"test.csv\")\n",
    "test_data.dropna(inplace=True)\n",
    "validation_data=pd.read_csv(\"valid.csv\")\n",
    "print(\"[info] : Datasets loading complete.\")"
   ]
  },
  {
   "cell_type": "markdown",
   "id": "1f29dce6-7adc-48e1-ba87-718ac4bcabda",
   "metadata": {},
   "source": [
    "# Label 1"
   ]
  },
  {
   "cell_type": "markdown",
   "id": "4b322242-ca14-4cde-a881-8638c93baf30",
   "metadata": {},
   "source": [
    "## Data preprocessing"
   ]
  },
  {
   "cell_type": "code",
   "execution_count": 2,
   "id": "045a02e6-49be-4394-be3f-18a0bb59cb47",
   "metadata": {},
   "outputs": [
    {
     "name": "stdout",
     "output_type": "stream",
     "text": [
      "[info] : Preprocessing data..\n",
      "[info] : Preprocessing complete.\n"
     ]
    }
   ],
   "source": [
    "print(\"[info] : Preprocessing data..\")\n",
    "# Prepare data for label 1\n",
    "label_1_train_data=train_data.drop(columns=[\"label_2\",\"label_3\",\"label_4\"])\n",
    "label_1_valid_data=validation_data.drop(columns=[\"label_2\",\"label_3\",\"label_4\"])\n",
    "\n",
    "# Drop rows with missing values\n",
    "label_1_train_data.dropna(inplace=True)\n",
    "label_1_valid_data.dropna(inplace=True)\n",
    "\n",
    "# Separate features and labels\n",
    "label_1_train_x=label_1_train_data.drop(columns=[\"label_1\"])\n",
    "label_1_train_y=label_1_train_data[\"label_1\"]\n",
    "label_1_valid_x=label_1_valid_data.drop(columns=[\"label_1\"])\n",
    "label_1_valid_y=label_1_valid_data[\"label_1\"]\n",
    "print(\"[info] : Preprocessing complete.\")"
   ]
  },
  {
   "cell_type": "markdown",
   "id": "73dca467-cb08-4587-97d7-9d50b436b5b0",
   "metadata": {},
   "source": [
    "## Apply PCA"
   ]
  },
  {
   "cell_type": "code",
   "execution_count": 3,
   "id": "96dba9d1-124e-4e4d-be78-134a015fc680",
   "metadata": {},
   "outputs": [
    {
     "name": "stdout",
     "output_type": "stream",
     "text": [
      "[info] : Reducing dimensions using PCA..\n",
      "[info] : Dimensions reduction complete.\n"
     ]
    }
   ],
   "source": [
    "print(\"[info] : Reducing dimensions using PCA..\")\n",
    "no_of_components=300\n",
    "pca=PCA(n_components=no_of_components)\n",
    "transformed_label_1_train_x = pca.fit_transform(label_1_train_x)\n",
    "transformed_label_1_valid_x = pca.fit_transform(label_1_valid_x)\n",
    "print(\"[info] : Dimensions reduction complete.\")"
   ]
  },
  {
   "cell_type": "markdown",
   "id": "8b2d7cfc-5ff6-47fc-8409-6f4df58adf0c",
   "metadata": {},
   "source": [
    "## Train the classifier"
   ]
  },
  {
   "cell_type": "code",
   "execution_count": 4,
   "id": "88e41707-c8c4-4df4-b25a-52c0805e88b7",
   "metadata": {},
   "outputs": [
    {
     "name": "stdout",
     "output_type": "stream",
     "text": [
      "[info] : Tuning hyper parameters..\n",
      "Fitting 5 folds for each of 8 candidates, totalling 40 fits\n",
      "[info] : Hyper parameters tuning complete.\n",
      "[info] : Cross validating trained model..\n",
      "Cross-Validation Scores: [0.44       0.45333333 0.52       0.49333333 0.54666667]\n",
      "Mean CV Score: 0.49066666666666664\n",
      "Cross validation complete\n"
     ]
    }
   ],
   "source": [
    "# Choose Random Forest as the classifier\n",
    "# classifier = RandomForestClassifier()\n",
    "\n",
    "# Choose SVM as the classifier\n",
    "classifier = SVC()\n",
    "param_grid = {\n",
    "    'C': [0.1, 1],\n",
    "    'kernel': ['linear', 'rbf'],\n",
    "    'gamma': [0.001, 0.01]\n",
    "}\n",
    "grid_search = GridSearchCV(classifier, param_grid, cv=5, n_jobs=-1,verbose=5)\n",
    "\n",
    "print(\"[info] : Tuning hyper parameters..\")\n",
    "# Tune hyper parameters\n",
    "grid_search.fit(transformed_label_1_train_x, label_1_train_y)\n",
    "print(\"[info] : Hyper parameters tuning complete.\")\n",
    "\n",
    "# Get the best hyperparameters from the grid search\n",
    "best_clf = grid_search.best_estimator_\n",
    "\n",
    "print(\"[info] : Cross validating trained model..\")\n",
    "# Use Cross-Validation to Validate the Results\n",
    "cv_scores = cross_val_score(best_clf, transformed_label_1_valid_x, label_1_valid_y, cv=5)\n",
    "print(\"Cross-Validation Scores:\", cv_scores)\n",
    "print(\"Mean CV Score:\", np.mean(cv_scores))\n",
    "print(\"Cross validation complete\")"
   ]
  },
  {
   "cell_type": "markdown",
   "id": "251895c0-1a3b-4690-a657-8fbe50277d9f",
   "metadata": {},
   "source": [
    "## Predictions"
   ]
  },
  {
   "cell_type": "code",
   "execution_count": 30,
   "id": "73695efd-69e6-4e10-ab7c-72c2877847f5",
   "metadata": {},
   "outputs": [
    {
     "name": "stdout",
     "output_type": "stream",
     "text": [
      "Predicting for test data for label 1..\n",
      "Prediction complete.\n",
      "744\n"
     ]
    }
   ],
   "source": [
    "# Load Test Set and Predict Values\n",
    "print(\"Predicting for test data for label 1..\")\n",
    "label_1_test_data=test_data.drop(columns=['ID'])\n",
    "transformed_label_1_test_x= pca.transform(label_1_test_data)\n",
    "label_1_y_pred = list(best_clf.predict(transformed_label_1_test_x))\n",
    "print(\"Prediction complete.\")\n",
    "print(len(label_1_y_pred))"
   ]
  },
  {
   "cell_type": "markdown",
   "id": "21014dfc-b906-4999-879b-c45bb6270720",
   "metadata": {},
   "source": [
    "# Label 2"
   ]
  },
  {
   "cell_type": "markdown",
   "id": "75d4c82c-3010-4a89-baf3-fd77641318ec",
   "metadata": {},
   "source": [
    "## Data preprocessing"
   ]
  },
  {
   "cell_type": "code",
   "execution_count": 6,
   "id": "c1ed6f8e-b795-4c20-bd63-5ee5c4b1c099",
   "metadata": {},
   "outputs": [
    {
     "name": "stdout",
     "output_type": "stream",
     "text": [
      "[info] : Preprocessing data..\n",
      "[info] : Preprocessing complete.\n"
     ]
    }
   ],
   "source": [
    "print(\"[info] : Preprocessing data..\")\n",
    "# Prepare data for label 2\n",
    "label_2_train_data=train_data.drop(columns=[\"label_1\",\"label_3\",\"label_4\"])\n",
    "label_2_valid_data=validation_data.drop(columns=[\"label_1\",\"label_3\",\"label_4\"])\n",
    "\n",
    "# Drop rows with missing values\n",
    "label_2_train_data.dropna(inplace=True)\n",
    "label_2_valid_data.dropna(inplace=True)\n",
    "\n",
    "# Separate features and labels\n",
    "label_2_train_x=label_2_train_data.drop(columns=[\"label_2\"])\n",
    "label_2_train_y=label_2_train_data[\"label_2\"]\n",
    "label_2_valid_x=label_2_valid_data.drop(columns=[\"label_2\"])\n",
    "label_2_valid_y=label_2_valid_data[\"label_2\"]\n",
    "print(\"[info] : Preprocessing complete.\")"
   ]
  },
  {
   "cell_type": "markdown",
   "id": "e6b64c13-1177-46e1-921a-892edbc3322a",
   "metadata": {},
   "source": [
    "## Apply PCA"
   ]
  },
  {
   "cell_type": "code",
   "execution_count": 7,
   "id": "4565076c-7d8c-44a9-9c0f-743293c1bd63",
   "metadata": {},
   "outputs": [
    {
     "name": "stdout",
     "output_type": "stream",
     "text": [
      "[info] : Reducing dimensions using PCA..\n",
      "[info] : Dimensions reduction complete.\n"
     ]
    }
   ],
   "source": [
    "print(\"[info] : Reducing dimensions using PCA..\")\n",
    "no_of_components=300\n",
    "pca=PCA(n_components=no_of_components)\n",
    "transformed_label_2_train_x = pca.fit_transform(label_2_train_x)\n",
    "transformed_label_2_valid_x = pca.fit_transform(label_2_valid_x)\n",
    "print(\"[info] : Dimensions reduction complete.\")"
   ]
  },
  {
   "cell_type": "markdown",
   "id": "4c2535cc-fbc8-467a-ac60-c9d0fa2caccb",
   "metadata": {},
   "source": [
    "## Train the classifier"
   ]
  },
  {
   "cell_type": "code",
   "execution_count": 8,
   "id": "f02bbc2b-14ab-4a7e-96ba-0870f6faa5e8",
   "metadata": {},
   "outputs": [
    {
     "name": "stdout",
     "output_type": "stream",
     "text": [
      "[info] : Tuning hyper parameters..\n",
      "Fitting 5 folds for each of 8 candidates, totalling 40 fits\n",
      "[info] : Hyper parameters tuning complete.\n",
      "[info] : Cross validating trained model..\n",
      "Cross-Validation Scores: [0.26351351 0.29931973 0.28571429 0.31972789 0.16326531]\n",
      "Mean CV Score: 0.26630814487957344\n",
      "Cross validation complete\n"
     ]
    }
   ],
   "source": [
    "# Choose SVM as the classifier\n",
    "classifier = SVC()\n",
    "param_grid = {\n",
    "    'C': [0.1, 1],\n",
    "    'kernel': ['linear', 'rbf'],\n",
    "    'gamma': [0.001, 0.01]\n",
    "}\n",
    "grid_search = GridSearchCV(classifier, param_grid, cv=5, n_jobs=-1,verbose=5)\n",
    "\n",
    "print(\"[info] : Tuning hyper parameters..\")\n",
    "# Tune hyper parameters\n",
    "grid_search.fit(transformed_label_2_train_x, label_2_train_y)\n",
    "print(\"[info] : Hyper parameters tuning complete.\")\n",
    "\n",
    "# Get the best hyperparameters from the grid search\n",
    "best_clf = grid_search.best_estimator_\n",
    "\n",
    "print(\"[info] : Cross validating trained model..\")\n",
    "# Use Cross-Validation to Validate the Results\n",
    "cv_scores = cross_val_score(best_clf, transformed_label_2_valid_x, label_2_valid_y, cv=5)\n",
    "print(\"Cross-Validation Scores:\", cv_scores)\n",
    "print(\"Mean CV Score:\", np.mean(cv_scores))\n",
    "print(\"Cross validation complete\")"
   ]
  },
  {
   "cell_type": "markdown",
   "id": "ac178ccc-83cd-4f83-87c2-8659b3454668",
   "metadata": {},
   "source": [
    "## Predictions"
   ]
  },
  {
   "cell_type": "code",
   "execution_count": 31,
   "id": "b140c60a-52e4-4fdb-9f30-d2bee2817a78",
   "metadata": {},
   "outputs": [
    {
     "name": "stdout",
     "output_type": "stream",
     "text": [
      "Predicting for test data for label 2..\n",
      "Prediction complete.\n",
      "744\n"
     ]
    }
   ],
   "source": [
    "# Load Test Set and Predict Values\n",
    "print(\"Predicting for test data for label 2..\")\n",
    "label_2_test_data=test_data.drop(columns=['ID'])\n",
    "transformed_label_2_test_x= pca.transform(label_2_test_data)\n",
    "label_2_y_pred = list(best_clf.predict(transformed_label_2_test_x).astype(int))\n",
    "print(\"Prediction complete.\")\n",
    "print(len(label_2_y_pred))"
   ]
  },
  {
   "cell_type": "markdown",
   "id": "a6ecfa22-b93f-442d-99f2-a73d354f37f3",
   "metadata": {},
   "source": [
    "# Label 3"
   ]
  },
  {
   "cell_type": "markdown",
   "id": "e7963930-d13c-46c3-9b9f-10cedf11a2e6",
   "metadata": {},
   "source": [
    "## Data preprocessing"
   ]
  },
  {
   "cell_type": "code",
   "execution_count": 10,
   "id": "77b41fd9-7cf8-415d-9b3f-ebd49603d323",
   "metadata": {},
   "outputs": [
    {
     "name": "stdout",
     "output_type": "stream",
     "text": [
      "[info] : Preprocessing data..\n",
      "[info] : Preprocessing complete.\n"
     ]
    }
   ],
   "source": [
    "print(\"[info] : Preprocessing data..\")\n",
    "# Prepare data for label 3\n",
    "label_3_train_data=train_data.drop(columns=[\"label_1\",\"label_2\",\"label_4\"])\n",
    "label_3_valid_data=validation_data.drop(columns=[\"label_1\",\"label_2\",\"label_4\"])\n",
    "\n",
    "# Drop rows with missing values\n",
    "label_3_train_data.dropna(inplace=True)\n",
    "label_3_valid_data.dropna(inplace=True)\n",
    "\n",
    "# Separate features and labels\n",
    "label_3_train_x=label_3_train_data.drop(columns=[\"label_3\"])\n",
    "label_3_train_y=label_3_train_data[\"label_3\"]\n",
    "label_3_valid_x=label_3_valid_data.drop(columns=[\"label_3\"])\n",
    "label_3_valid_y=label_3_valid_data[\"label_3\"]\n",
    "print(\"[info] : Preprocessing complete.\")"
   ]
  },
  {
   "cell_type": "markdown",
   "id": "80ca2d6a-d447-4a55-ad79-d6d23223e894",
   "metadata": {},
   "source": [
    "## Apply PCA"
   ]
  },
  {
   "cell_type": "code",
   "execution_count": 11,
   "id": "928161ed-c3e2-4951-94ac-9b982c975abb",
   "metadata": {},
   "outputs": [
    {
     "name": "stdout",
     "output_type": "stream",
     "text": [
      "[info] : Reducing dimensions using PCA..\n",
      "[info] : Dimensions reduction complete.\n"
     ]
    }
   ],
   "source": [
    "print(\"[info] : Reducing dimensions using PCA..\")\n",
    "no_of_components=300\n",
    "pca=PCA(n_components=no_of_components)\n",
    "transformed_label_3_train_x = pca.fit_transform(label_3_train_x)\n",
    "transformed_label_3_valid_x = pca.fit_transform(label_3_valid_x)\n",
    "print(\"[info] : Dimensions reduction complete.\")"
   ]
  },
  {
   "cell_type": "markdown",
   "id": "118c07aa-9d59-4b23-8dff-c0e330140e8f",
   "metadata": {},
   "source": [
    "## Train the classifier"
   ]
  },
  {
   "cell_type": "code",
   "execution_count": 12,
   "id": "5801d893-7fa0-445f-be34-196bd9c12f11",
   "metadata": {},
   "outputs": [
    {
     "name": "stdout",
     "output_type": "stream",
     "text": [
      "[info] : Tuning hyper parameters..\n",
      "Fitting 5 folds for each of 8 candidates, totalling 40 fits\n",
      "[info] : Hyper parameters tuning complete.\n",
      "[info] : Cross validating trained model..\n",
      "Cross-Validation Scores: [0.97333333 0.98666667 0.97333333 0.97333333 0.98666667]\n",
      "Mean CV Score: 0.9786666666666667\n",
      "Cross validation complete\n"
     ]
    }
   ],
   "source": [
    "# Choose SVM as the classifier\n",
    "classifier = SVC()\n",
    "param_grid = {\n",
    "    'C': [0.1, 1],\n",
    "    'kernel': ['linear', 'rbf'],\n",
    "    'gamma': [0.001, 0.01]\n",
    "}\n",
    "grid_search = GridSearchCV(classifier, param_grid, cv=5, n_jobs=-1,verbose=5)\n",
    "\n",
    "print(\"[info] : Tuning hyper parameters..\")\n",
    "# Tune hyper parameters\n",
    "grid_search.fit(transformed_label_3_train_x, label_3_train_y)\n",
    "print(\"[info] : Hyper parameters tuning complete.\")\n",
    "\n",
    "# Get the best hyperparameters from the grid search\n",
    "best_clf = grid_search.best_estimator_\n",
    "\n",
    "print(\"[info] : Cross validating trained model..\")\n",
    "# Use Cross-Validation to Validate the Results\n",
    "cv_scores = cross_val_score(best_clf, transformed_label_3_valid_x, label_3_valid_y, cv=5)\n",
    "print(\"Cross-Validation Scores:\", cv_scores)\n",
    "print(\"Mean CV Score:\", np.mean(cv_scores))\n",
    "print(\"Cross validation complete\")"
   ]
  },
  {
   "cell_type": "markdown",
   "id": "d09f3f42-6eb0-4316-acea-c594654a7693",
   "metadata": {},
   "source": [
    "## Predictions"
   ]
  },
  {
   "cell_type": "code",
   "execution_count": 32,
   "id": "815ea461-cf7d-4be0-bca9-2b7807f1e78e",
   "metadata": {},
   "outputs": [
    {
     "name": "stdout",
     "output_type": "stream",
     "text": [
      "Predicting for test data for label 3..\n",
      "Prediction complete.\n",
      "744\n"
     ]
    }
   ],
   "source": [
    "# Load Test Set and Predict Values\n",
    "print(\"Predicting for test data for label 3..\")\n",
    "label_3_test_data=test_data.drop(columns=['ID'])\n",
    "transformed_label_3_test_x= pca.transform(label_3_test_data)\n",
    "label_3_y_pred = list(best_clf.predict(transformed_label_3_test_x))\n",
    "print(\"Prediction complete.\")\n",
    "print(len(label_3_y_pred))"
   ]
  },
  {
   "cell_type": "markdown",
   "id": "e3ed1c69-f542-4526-9165-1f314cd0e1c8",
   "metadata": {},
   "source": [
    "# Label 4"
   ]
  },
  {
   "cell_type": "markdown",
   "id": "b2e3ba18-3946-45c0-841f-794fa1868f42",
   "metadata": {},
   "source": [
    "## Data preprocessing"
   ]
  },
  {
   "cell_type": "code",
   "execution_count": 14,
   "id": "551d4f83-2148-4477-bc6f-52832e75aff7",
   "metadata": {},
   "outputs": [
    {
     "name": "stdout",
     "output_type": "stream",
     "text": [
      "[info] : Preprocessing data..\n",
      "[info] : Preprocessing complete.\n"
     ]
    }
   ],
   "source": [
    "print(\"[info] : Preprocessing data..\")\n",
    "# Prepare data for label 4\n",
    "label_4_train_data=train_data.drop(columns=[\"label_1\",\"label_2\",\"label_3\"])\n",
    "label_4_valid_data=validation_data.drop(columns=[\"label_1\",\"label_2\",\"label_3\"])\n",
    "\n",
    "# Drop rows with missing values\n",
    "label_4_train_data.dropna(inplace=True)\n",
    "label_4_valid_data.dropna(inplace=True)\n",
    "\n",
    "# Separate features and labels\n",
    "label_4_train_x=label_4_train_data.drop(columns=[\"label_4\"])\n",
    "label_4_train_y=label_4_train_data[\"label_4\"]\n",
    "label_4_valid_x=label_4_valid_data.drop(columns=[\"label_4\"])\n",
    "label_4_valid_y=label_4_valid_data[\"label_4\"]\n",
    "print(\"[info] : Preprocessing complete.\")"
   ]
  },
  {
   "cell_type": "markdown",
   "id": "d269e2c3-3fcb-4d23-9a36-721e13800c62",
   "metadata": {},
   "source": [
    "## Apply PCA"
   ]
  },
  {
   "cell_type": "code",
   "execution_count": 15,
   "id": "50a8e6e6-fdbd-46ea-9c8a-c951d91bc5ea",
   "metadata": {},
   "outputs": [
    {
     "name": "stdout",
     "output_type": "stream",
     "text": [
      "[info] : Reducing dimensions using PCA..\n",
      "[info] : Dimensions reduction complete.\n"
     ]
    }
   ],
   "source": [
    "print(\"[info] : Reducing dimensions using PCA..\")\n",
    "no_of_components=300\n",
    "pca=PCA(n_components=no_of_components)\n",
    "transformed_label_4_train_x = pca.fit_transform(label_4_train_x)\n",
    "transformed_label_4_valid_x = pca.fit_transform(label_4_valid_x)\n",
    "print(\"[info] : Dimensions reduction complete.\")"
   ]
  },
  {
   "cell_type": "markdown",
   "id": "ca72037d-35b4-4c59-ade7-dfe032a851ea",
   "metadata": {},
   "source": [
    "## Train the classifier"
   ]
  },
  {
   "cell_type": "code",
   "execution_count": 16,
   "id": "92133ea0-abaf-4534-b05b-c3ac6e7cf9ce",
   "metadata": {},
   "outputs": [
    {
     "name": "stdout",
     "output_type": "stream",
     "text": [
      "[info] : Tuning hyper parameters..\n",
      "Fitting 5 folds for each of 8 candidates, totalling 40 fits\n",
      "[info] : Hyper parameters tuning complete.\n",
      "[info] : Cross validating trained model..\n",
      "Cross-Validation Scores: [0.74       0.75333333 0.69333333 0.78666667 0.7       ]\n",
      "Mean CV Score: 0.7346666666666666\n",
      "Cross validation complete\n"
     ]
    }
   ],
   "source": [
    "# Choose SVM as the classifier\n",
    "classifier = SVC()\n",
    "param_grid = {\n",
    "    'C': [0.1, 1],\n",
    "    'kernel': ['linear', 'rbf'],\n",
    "    'gamma': [0.001, 0.01]\n",
    "}\n",
    "grid_search = GridSearchCV(classifier, param_grid, cv=5, n_jobs=-1,verbose=5)\n",
    "\n",
    "print(\"[info] : Tuning hyper parameters..\")\n",
    "# Tune hyper parameters\n",
    "grid_search.fit(transformed_label_4_train_x, label_4_train_y)\n",
    "print(\"[info] : Hyper parameters tuning complete.\")\n",
    "\n",
    "# Get the best hyperparameters from the grid search\n",
    "best_clf = grid_search.best_estimator_\n",
    "\n",
    "print(\"[info] : Cross validating trained model..\")\n",
    "# Use Cross-Validation to Validate the Results\n",
    "cv_scores = cross_val_score(best_clf, transformed_label_4_valid_x, label_4_valid_y, cv=5)\n",
    "print(\"Cross-Validation Scores:\", cv_scores)\n",
    "print(\"Mean CV Score:\", np.mean(cv_scores))\n",
    "print(\"Cross validation complete\")"
   ]
  },
  {
   "cell_type": "markdown",
   "id": "447d1822-4e37-478c-b0d9-5d40609435ad",
   "metadata": {},
   "source": [
    "## Predictions"
   ]
  },
  {
   "cell_type": "code",
   "execution_count": 33,
   "id": "24f837e9-e9e8-45ce-aa66-437ce5da0cdb",
   "metadata": {},
   "outputs": [
    {
     "name": "stdout",
     "output_type": "stream",
     "text": [
      "Predicting for test data for label 4..\n",
      "Prediction complete.\n",
      "744\n"
     ]
    }
   ],
   "source": [
    "# Load Test Set and Predict Values\n",
    "print(\"Predicting for test data for label 4..\")\n",
    "label_4_test_data=test_data.drop(columns=['ID'])\n",
    "transformed_label_4_test_x= pca.transform(label_4_test_data)\n",
    "label_4_y_pred = list(best_clf.predict(transformed_label_4_test_x))\n",
    "print(\"Prediction complete.\")\n",
    "print(len(label_4_y_pred))"
   ]
  },
  {
   "cell_type": "code",
   "execution_count": 35,
   "id": "2688a955-bcd5-4c2d-9244-ceb08e4b4079",
   "metadata": {},
   "outputs": [
    {
     "data": {
      "text/html": [
       "<div>\n",
       "<style scoped>\n",
       "    .dataframe tbody tr th:only-of-type {\n",
       "        vertical-align: middle;\n",
       "    }\n",
       "\n",
       "    .dataframe tbody tr th {\n",
       "        vertical-align: top;\n",
       "    }\n",
       "\n",
       "    .dataframe thead th {\n",
       "        text-align: right;\n",
       "    }\n",
       "</style>\n",
       "<table border=\"1\" class=\"dataframe\">\n",
       "  <thead>\n",
       "    <tr style=\"text-align: right;\">\n",
       "      <th></th>\n",
       "      <th>ID</th>\n",
       "      <th>label_1</th>\n",
       "      <th>label_2</th>\n",
       "      <th>label_3</th>\n",
       "      <th>label_4</th>\n",
       "    </tr>\n",
       "  </thead>\n",
       "  <tbody>\n",
       "    <tr>\n",
       "      <th>0</th>\n",
       "      <td>1</td>\n",
       "      <td>6</td>\n",
       "      <td>6</td>\n",
       "      <td>6</td>\n",
       "      <td>6</td>\n",
       "    </tr>\n",
       "    <tr>\n",
       "      <th>1</th>\n",
       "      <td>2</td>\n",
       "      <td>6</td>\n",
       "      <td>6</td>\n",
       "      <td>6</td>\n",
       "      <td>6</td>\n",
       "    </tr>\n",
       "    <tr>\n",
       "      <th>2</th>\n",
       "      <td>3</td>\n",
       "      <td>6</td>\n",
       "      <td>6</td>\n",
       "      <td>6</td>\n",
       "      <td>6</td>\n",
       "    </tr>\n",
       "    <tr>\n",
       "      <th>3</th>\n",
       "      <td>4</td>\n",
       "      <td>6</td>\n",
       "      <td>6</td>\n",
       "      <td>6</td>\n",
       "      <td>6</td>\n",
       "    </tr>\n",
       "    <tr>\n",
       "      <th>4</th>\n",
       "      <td>5</td>\n",
       "      <td>6</td>\n",
       "      <td>6</td>\n",
       "      <td>6</td>\n",
       "      <td>6</td>\n",
       "    </tr>\n",
       "    <tr>\n",
       "      <th>...</th>\n",
       "      <td>...</td>\n",
       "      <td>...</td>\n",
       "      <td>...</td>\n",
       "      <td>...</td>\n",
       "      <td>...</td>\n",
       "    </tr>\n",
       "    <tr>\n",
       "      <th>739</th>\n",
       "      <td>740</td>\n",
       "      <td>4</td>\n",
       "      <td>4</td>\n",
       "      <td>4</td>\n",
       "      <td>4</td>\n",
       "    </tr>\n",
       "    <tr>\n",
       "      <th>740</th>\n",
       "      <td>741</td>\n",
       "      <td>6</td>\n",
       "      <td>6</td>\n",
       "      <td>6</td>\n",
       "      <td>6</td>\n",
       "    </tr>\n",
       "    <tr>\n",
       "      <th>741</th>\n",
       "      <td>742</td>\n",
       "      <td>6</td>\n",
       "      <td>6</td>\n",
       "      <td>6</td>\n",
       "      <td>6</td>\n",
       "    </tr>\n",
       "    <tr>\n",
       "      <th>742</th>\n",
       "      <td>743</td>\n",
       "      <td>6</td>\n",
       "      <td>6</td>\n",
       "      <td>6</td>\n",
       "      <td>6</td>\n",
       "    </tr>\n",
       "    <tr>\n",
       "      <th>743</th>\n",
       "      <td>744</td>\n",
       "      <td>6</td>\n",
       "      <td>6</td>\n",
       "      <td>6</td>\n",
       "      <td>6</td>\n",
       "    </tr>\n",
       "  </tbody>\n",
       "</table>\n",
       "<p>744 rows × 5 columns</p>\n",
       "</div>"
      ],
      "text/plain": [
       "      ID  label_1  label_2  label_3  label_4\n",
       "0      1        6        6        6        6\n",
       "1      2        6        6        6        6\n",
       "2      3        6        6        6        6\n",
       "3      4        6        6        6        6\n",
       "4      5        6        6        6        6\n",
       "..   ...      ...      ...      ...      ...\n",
       "739  740        4        4        4        4\n",
       "740  741        6        6        6        6\n",
       "741  742        6        6        6        6\n",
       "742  743        6        6        6        6\n",
       "743  744        6        6        6        6\n",
       "\n",
       "[744 rows x 5 columns]"
      ]
     },
     "execution_count": 35,
     "metadata": {},
     "output_type": "execute_result"
    }
   ],
   "source": [
    "# Create output dataframe\n",
    "ids=list(range(1,len(label_4_y_pred)+1))\n",
    "data={\"ID\":ids,\"label_1\":label_1_y_pred,\"label_2\":label_2_y_pred,\"label_3\":label_3_y_pred,\"label_4\":label_4_y_pred}\n",
    "output_dataframe = pd.DataFrame(data)\n",
    "output_dataframe"
   ]
  },
  {
   "cell_type": "code",
   "execution_count": null,
   "id": "cf91dc9c-1ac1-4c1e-8445-50a970016ba5",
   "metadata": {},
   "outputs": [],
   "source": []
  }
 ],
 "metadata": {
  "kernelspec": {
   "display_name": "Python 3 (ipykernel)",
   "language": "python",
   "name": "python3"
  },
  "language_info": {
   "codemirror_mode": {
    "name": "ipython",
    "version": 3
   },
   "file_extension": ".py",
   "mimetype": "text/x-python",
   "name": "python",
   "nbconvert_exporter": "python",
   "pygments_lexer": "ipython3",
   "version": "3.11.5"
  }
 },
 "nbformat": 4,
 "nbformat_minor": 5
}
